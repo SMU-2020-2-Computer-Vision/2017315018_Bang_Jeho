{
 "cells": [
  {
   "cell_type": "code",
   "execution_count": 3,
   "metadata": {},
   "outputs": [
    {
     "name": "stdout",
     "output_type": "stream",
     "text": [
      "<class 'numpy.ndarray'>\n",
      "3\n",
      "(342, 548, 3)\n",
      "562248\n",
      "uint8\n"
     ]
    }
   ],
   "source": [
    "import cv2\n",
    "import os\n",
    "\n",
    "# Get the path to the current file\n",
    "cwd = os.path.dirname(os.path.abspath(\"__file__\"))\n",
    "\n",
    "# Change the working directory\n",
    "os.chdir(cwd)\n",
    "\n",
    "# Load an image\n",
    "img = cv2.imread('messi5.jpg')\n",
    "print(type(img)) # <class 'numpy.ndarray'>\n",
    "\n",
    "print(img.ndim)  \n",
    "\n",
    "# Image properties: matrix shape\n",
    "print(img.shape)\n",
    "\n",
    "# Image properties: number of pixels\n",
    "print(img.size)\n",
    "\n",
    "# Image properties: image data type\n",
    "print(img.dtype)"
   ]
  },
  {
   "cell_type": "code",
   "execution_count": null,
   "metadata": {},
   "outputs": [],
   "source": []
  }
 ],
 "metadata": {
  "kernelspec": {
   "display_name": "Python 3",
   "language": "python",
   "name": "python3"
  },
  "language_info": {
   "codemirror_mode": {
    "name": "ipython",
    "version": 3
   },
   "file_extension": ".py",
   "mimetype": "text/x-python",
   "name": "python",
   "nbconvert_exporter": "python",
   "pygments_lexer": "ipython3",
   "version": "3.8.3"
  }
 },
 "nbformat": 4,
 "nbformat_minor": 4
}
